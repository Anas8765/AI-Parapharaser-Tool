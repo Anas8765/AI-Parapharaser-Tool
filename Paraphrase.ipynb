{
  "nbformat": 4,
  "nbformat_minor": 0,
  "metadata": {
    "colab": {
      "provenance": []
    },
    "kernelspec": {
      "name": "python3",
      "display_name": "Python 3"
    },
    "accelerator": "GPU",
    "widgets": {
      "application/vnd.jupyter.widget-state+json": {
        "d9c67178594c43acb49868825e14d6dc": {
          "model_module": "@jupyter-widgets/controls",
          "model_name": "HBoxModel",
          "model_module_version": "1.5.0",
          "state": {
            "_dom_classes": [],
            "_model_module": "@jupyter-widgets/controls",
            "_model_module_version": "1.5.0",
            "_model_name": "HBoxModel",
            "_view_count": null,
            "_view_module": "@jupyter-widgets/controls",
            "_view_module_version": "1.5.0",
            "_view_name": "HBoxView",
            "box_style": "",
            "children": [
              "IPY_MODEL_477f8d91ae8a44d58249fca8a64880a1",
              "IPY_MODEL_d186b8a3e4e142d5bc27c125520fee0b",
              "IPY_MODEL_9f1a0555a2504346a623fe8eddfdbe6d"
            ],
            "layout": "IPY_MODEL_953cf3feb9bc43888f752489f5bcffc1"
          }
        },
        "477f8d91ae8a44d58249fca8a64880a1": {
          "model_module": "@jupyter-widgets/controls",
          "model_name": "HTMLModel",
          "model_module_version": "1.5.0",
          "state": {
            "_dom_classes": [],
            "_model_module": "@jupyter-widgets/controls",
            "_model_module_version": "1.5.0",
            "_model_name": "HTMLModel",
            "_view_count": null,
            "_view_module": "@jupyter-widgets/controls",
            "_view_module_version": "1.5.0",
            "_view_name": "HTMLView",
            "description": "",
            "description_tooltip": null,
            "layout": "IPY_MODEL_d5a1327c44fe4e1aa131395c8de78676",
            "placeholder": "​",
            "style": "IPY_MODEL_9d79e29fbe75428eb60f02c7e5b13417",
            "value": "tokenizer_config.json: 100%"
          }
        },
        "d186b8a3e4e142d5bc27c125520fee0b": {
          "model_module": "@jupyter-widgets/controls",
          "model_name": "FloatProgressModel",
          "model_module_version": "1.5.0",
          "state": {
            "_dom_classes": [],
            "_model_module": "@jupyter-widgets/controls",
            "_model_module_version": "1.5.0",
            "_model_name": "FloatProgressModel",
            "_view_count": null,
            "_view_module": "@jupyter-widgets/controls",
            "_view_module_version": "1.5.0",
            "_view_name": "ProgressView",
            "bar_style": "success",
            "description": "",
            "description_tooltip": null,
            "layout": "IPY_MODEL_904ab1fb0a11491287338222fb67a6ee",
            "max": 86,
            "min": 0,
            "orientation": "horizontal",
            "style": "IPY_MODEL_4c166d447ff445079e25b4797e3421f8",
            "value": 86
          }
        },
        "9f1a0555a2504346a623fe8eddfdbe6d": {
          "model_module": "@jupyter-widgets/controls",
          "model_name": "HTMLModel",
          "model_module_version": "1.5.0",
          "state": {
            "_dom_classes": [],
            "_model_module": "@jupyter-widgets/controls",
            "_model_module_version": "1.5.0",
            "_model_name": "HTMLModel",
            "_view_count": null,
            "_view_module": "@jupyter-widgets/controls",
            "_view_module_version": "1.5.0",
            "_view_name": "HTMLView",
            "description": "",
            "description_tooltip": null,
            "layout": "IPY_MODEL_205165b208d14366aad63d8f37bcac4d",
            "placeholder": "​",
            "style": "IPY_MODEL_14b5fd0853e74630a5e6730ce0f0587b",
            "value": " 86.0/86.0 [00:00&lt;00:00, 1.61kB/s]"
          }
        },
        "953cf3feb9bc43888f752489f5bcffc1": {
          "model_module": "@jupyter-widgets/base",
          "model_name": "LayoutModel",
          "model_module_version": "1.2.0",
          "state": {
            "_model_module": "@jupyter-widgets/base",
            "_model_module_version": "1.2.0",
            "_model_name": "LayoutModel",
            "_view_count": null,
            "_view_module": "@jupyter-widgets/base",
            "_view_module_version": "1.2.0",
            "_view_name": "LayoutView",
            "align_content": null,
            "align_items": null,
            "align_self": null,
            "border": null,
            "bottom": null,
            "display": null,
            "flex": null,
            "flex_flow": null,
            "grid_area": null,
            "grid_auto_columns": null,
            "grid_auto_flow": null,
            "grid_auto_rows": null,
            "grid_column": null,
            "grid_gap": null,
            "grid_row": null,
            "grid_template_areas": null,
            "grid_template_columns": null,
            "grid_template_rows": null,
            "height": null,
            "justify_content": null,
            "justify_items": null,
            "left": null,
            "margin": null,
            "max_height": null,
            "max_width": null,
            "min_height": null,
            "min_width": null,
            "object_fit": null,
            "object_position": null,
            "order": null,
            "overflow": null,
            "overflow_x": null,
            "overflow_y": null,
            "padding": null,
            "right": null,
            "top": null,
            "visibility": null,
            "width": null
          }
        },
        "d5a1327c44fe4e1aa131395c8de78676": {
          "model_module": "@jupyter-widgets/base",
          "model_name": "LayoutModel",
          "model_module_version": "1.2.0",
          "state": {
            "_model_module": "@jupyter-widgets/base",
            "_model_module_version": "1.2.0",
            "_model_name": "LayoutModel",
            "_view_count": null,
            "_view_module": "@jupyter-widgets/base",
            "_view_module_version": "1.2.0",
            "_view_name": "LayoutView",
            "align_content": null,
            "align_items": null,
            "align_self": null,
            "border": null,
            "bottom": null,
            "display": null,
            "flex": null,
            "flex_flow": null,
            "grid_area": null,
            "grid_auto_columns": null,
            "grid_auto_flow": null,
            "grid_auto_rows": null,
            "grid_column": null,
            "grid_gap": null,
            "grid_row": null,
            "grid_template_areas": null,
            "grid_template_columns": null,
            "grid_template_rows": null,
            "height": null,
            "justify_content": null,
            "justify_items": null,
            "left": null,
            "margin": null,
            "max_height": null,
            "max_width": null,
            "min_height": null,
            "min_width": null,
            "object_fit": null,
            "object_position": null,
            "order": null,
            "overflow": null,
            "overflow_x": null,
            "overflow_y": null,
            "padding": null,
            "right": null,
            "top": null,
            "visibility": null,
            "width": null
          }
        },
        "9d79e29fbe75428eb60f02c7e5b13417": {
          "model_module": "@jupyter-widgets/controls",
          "model_name": "DescriptionStyleModel",
          "model_module_version": "1.5.0",
          "state": {
            "_model_module": "@jupyter-widgets/controls",
            "_model_module_version": "1.5.0",
            "_model_name": "DescriptionStyleModel",
            "_view_count": null,
            "_view_module": "@jupyter-widgets/base",
            "_view_module_version": "1.2.0",
            "_view_name": "StyleView",
            "description_width": ""
          }
        },
        "904ab1fb0a11491287338222fb67a6ee": {
          "model_module": "@jupyter-widgets/base",
          "model_name": "LayoutModel",
          "model_module_version": "1.2.0",
          "state": {
            "_model_module": "@jupyter-widgets/base",
            "_model_module_version": "1.2.0",
            "_model_name": "LayoutModel",
            "_view_count": null,
            "_view_module": "@jupyter-widgets/base",
            "_view_module_version": "1.2.0",
            "_view_name": "LayoutView",
            "align_content": null,
            "align_items": null,
            "align_self": null,
            "border": null,
            "bottom": null,
            "display": null,
            "flex": null,
            "flex_flow": null,
            "grid_area": null,
            "grid_auto_columns": null,
            "grid_auto_flow": null,
            "grid_auto_rows": null,
            "grid_column": null,
            "grid_gap": null,
            "grid_row": null,
            "grid_template_areas": null,
            "grid_template_columns": null,
            "grid_template_rows": null,
            "height": null,
            "justify_content": null,
            "justify_items": null,
            "left": null,
            "margin": null,
            "max_height": null,
            "max_width": null,
            "min_height": null,
            "min_width": null,
            "object_fit": null,
            "object_position": null,
            "order": null,
            "overflow": null,
            "overflow_x": null,
            "overflow_y": null,
            "padding": null,
            "right": null,
            "top": null,
            "visibility": null,
            "width": null
          }
        },
        "4c166d447ff445079e25b4797e3421f8": {
          "model_module": "@jupyter-widgets/controls",
          "model_name": "ProgressStyleModel",
          "model_module_version": "1.5.0",
          "state": {
            "_model_module": "@jupyter-widgets/controls",
            "_model_module_version": "1.5.0",
            "_model_name": "ProgressStyleModel",
            "_view_count": null,
            "_view_module": "@jupyter-widgets/base",
            "_view_module_version": "1.2.0",
            "_view_name": "StyleView",
            "bar_color": null,
            "description_width": ""
          }
        },
        "205165b208d14366aad63d8f37bcac4d": {
          "model_module": "@jupyter-widgets/base",
          "model_name": "LayoutModel",
          "model_module_version": "1.2.0",
          "state": {
            "_model_module": "@jupyter-widgets/base",
            "_model_module_version": "1.2.0",
            "_model_name": "LayoutModel",
            "_view_count": null,
            "_view_module": "@jupyter-widgets/base",
            "_view_module_version": "1.2.0",
            "_view_name": "LayoutView",
            "align_content": null,
            "align_items": null,
            "align_self": null,
            "border": null,
            "bottom": null,
            "display": null,
            "flex": null,
            "flex_flow": null,
            "grid_area": null,
            "grid_auto_columns": null,
            "grid_auto_flow": null,
            "grid_auto_rows": null,
            "grid_column": null,
            "grid_gap": null,
            "grid_row": null,
            "grid_template_areas": null,
            "grid_template_columns": null,
            "grid_template_rows": null,
            "height": null,
            "justify_content": null,
            "justify_items": null,
            "left": null,
            "margin": null,
            "max_height": null,
            "max_width": null,
            "min_height": null,
            "min_width": null,
            "object_fit": null,
            "object_position": null,
            "order": null,
            "overflow": null,
            "overflow_x": null,
            "overflow_y": null,
            "padding": null,
            "right": null,
            "top": null,
            "visibility": null,
            "width": null
          }
        },
        "14b5fd0853e74630a5e6730ce0f0587b": {
          "model_module": "@jupyter-widgets/controls",
          "model_name": "DescriptionStyleModel",
          "model_module_version": "1.5.0",
          "state": {
            "_model_module": "@jupyter-widgets/controls",
            "_model_module_version": "1.5.0",
            "_model_name": "DescriptionStyleModel",
            "_view_count": null,
            "_view_module": "@jupyter-widgets/base",
            "_view_module_version": "1.2.0",
            "_view_name": "StyleView",
            "description_width": ""
          }
        },
        "92d8ebef071045e29028df8fe029842c": {
          "model_module": "@jupyter-widgets/controls",
          "model_name": "HBoxModel",
          "model_module_version": "1.5.0",
          "state": {
            "_dom_classes": [],
            "_model_module": "@jupyter-widgets/controls",
            "_model_module_version": "1.5.0",
            "_model_name": "HBoxModel",
            "_view_count": null,
            "_view_module": "@jupyter-widgets/controls",
            "_view_module_version": "1.5.0",
            "_view_name": "HBoxView",
            "box_style": "",
            "children": [
              "IPY_MODEL_b73944fa143f41568ab7ef9b250647cd",
              "IPY_MODEL_f09ebd47a2a846499bbb9f9e651988b2",
              "IPY_MODEL_d5a4968cfe964ff4b4b3ad3c03fd771e"
            ],
            "layout": "IPY_MODEL_aca0f086e4c143dd9f15836e286783c4"
          }
        },
        "b73944fa143f41568ab7ef9b250647cd": {
          "model_module": "@jupyter-widgets/controls",
          "model_name": "HTMLModel",
          "model_module_version": "1.5.0",
          "state": {
            "_dom_classes": [],
            "_model_module": "@jupyter-widgets/controls",
            "_model_module_version": "1.5.0",
            "_model_name": "HTMLModel",
            "_view_count": null,
            "_view_module": "@jupyter-widgets/controls",
            "_view_module_version": "1.5.0",
            "_view_name": "HTMLView",
            "description": "",
            "description_tooltip": null,
            "layout": "IPY_MODEL_84cae24722774b15a296bf694429537d",
            "placeholder": "​",
            "style": "IPY_MODEL_65c581a60620460e88cb76e7812d8ac5",
            "value": "spiece.model: 100%"
          }
        },
        "f09ebd47a2a846499bbb9f9e651988b2": {
          "model_module": "@jupyter-widgets/controls",
          "model_name": "FloatProgressModel",
          "model_module_version": "1.5.0",
          "state": {
            "_dom_classes": [],
            "_model_module": "@jupyter-widgets/controls",
            "_model_module_version": "1.5.0",
            "_model_name": "FloatProgressModel",
            "_view_count": null,
            "_view_module": "@jupyter-widgets/controls",
            "_view_module_version": "1.5.0",
            "_view_name": "ProgressView",
            "bar_style": "success",
            "description": "",
            "description_tooltip": null,
            "layout": "IPY_MODEL_cc1f76ee4f8b40088f329d44c7a1ff4b",
            "max": 1912529,
            "min": 0,
            "orientation": "horizontal",
            "style": "IPY_MODEL_70798823b20743e3b913505d3c1beccb",
            "value": 1912529
          }
        },
        "d5a4968cfe964ff4b4b3ad3c03fd771e": {
          "model_module": "@jupyter-widgets/controls",
          "model_name": "HTMLModel",
          "model_module_version": "1.5.0",
          "state": {
            "_dom_classes": [],
            "_model_module": "@jupyter-widgets/controls",
            "_model_module_version": "1.5.0",
            "_model_name": "HTMLModel",
            "_view_count": null,
            "_view_module": "@jupyter-widgets/controls",
            "_view_module_version": "1.5.0",
            "_view_name": "HTMLView",
            "description": "",
            "description_tooltip": null,
            "layout": "IPY_MODEL_80a186983465409089f5c3e1c5acafc9",
            "placeholder": "​",
            "style": "IPY_MODEL_8654880a71f54ec5a0c3195a2c5ecd40",
            "value": " 1.91M/1.91M [00:00&lt;00:00, 7.53MB/s]"
          }
        },
        "aca0f086e4c143dd9f15836e286783c4": {
          "model_module": "@jupyter-widgets/base",
          "model_name": "LayoutModel",
          "model_module_version": "1.2.0",
          "state": {
            "_model_module": "@jupyter-widgets/base",
            "_model_module_version": "1.2.0",
            "_model_name": "LayoutModel",
            "_view_count": null,
            "_view_module": "@jupyter-widgets/base",
            "_view_module_version": "1.2.0",
            "_view_name": "LayoutView",
            "align_content": null,
            "align_items": null,
            "align_self": null,
            "border": null,
            "bottom": null,
            "display": null,
            "flex": null,
            "flex_flow": null,
            "grid_area": null,
            "grid_auto_columns": null,
            "grid_auto_flow": null,
            "grid_auto_rows": null,
            "grid_column": null,
            "grid_gap": null,
            "grid_row": null,
            "grid_template_areas": null,
            "grid_template_columns": null,
            "grid_template_rows": null,
            "height": null,
            "justify_content": null,
            "justify_items": null,
            "left": null,
            "margin": null,
            "max_height": null,
            "max_width": null,
            "min_height": null,
            "min_width": null,
            "object_fit": null,
            "object_position": null,
            "order": null,
            "overflow": null,
            "overflow_x": null,
            "overflow_y": null,
            "padding": null,
            "right": null,
            "top": null,
            "visibility": null,
            "width": null
          }
        },
        "84cae24722774b15a296bf694429537d": {
          "model_module": "@jupyter-widgets/base",
          "model_name": "LayoutModel",
          "model_module_version": "1.2.0",
          "state": {
            "_model_module": "@jupyter-widgets/base",
            "_model_module_version": "1.2.0",
            "_model_name": "LayoutModel",
            "_view_count": null,
            "_view_module": "@jupyter-widgets/base",
            "_view_module_version": "1.2.0",
            "_view_name": "LayoutView",
            "align_content": null,
            "align_items": null,
            "align_self": null,
            "border": null,
            "bottom": null,
            "display": null,
            "flex": null,
            "flex_flow": null,
            "grid_area": null,
            "grid_auto_columns": null,
            "grid_auto_flow": null,
            "grid_auto_rows": null,
            "grid_column": null,
            "grid_gap": null,
            "grid_row": null,
            "grid_template_areas": null,
            "grid_template_columns": null,
            "grid_template_rows": null,
            "height": null,
            "justify_content": null,
            "justify_items": null,
            "left": null,
            "margin": null,
            "max_height": null,
            "max_width": null,
            "min_height": null,
            "min_width": null,
            "object_fit": null,
            "object_position": null,
            "order": null,
            "overflow": null,
            "overflow_x": null,
            "overflow_y": null,
            "padding": null,
            "right": null,
            "top": null,
            "visibility": null,
            "width": null
          }
        },
        "65c581a60620460e88cb76e7812d8ac5": {
          "model_module": "@jupyter-widgets/controls",
          "model_name": "DescriptionStyleModel",
          "model_module_version": "1.5.0",
          "state": {
            "_model_module": "@jupyter-widgets/controls",
            "_model_module_version": "1.5.0",
            "_model_name": "DescriptionStyleModel",
            "_view_count": null,
            "_view_module": "@jupyter-widgets/base",
            "_view_module_version": "1.2.0",
            "_view_name": "StyleView",
            "description_width": ""
          }
        },
        "cc1f76ee4f8b40088f329d44c7a1ff4b": {
          "model_module": "@jupyter-widgets/base",
          "model_name": "LayoutModel",
          "model_module_version": "1.2.0",
          "state": {
            "_model_module": "@jupyter-widgets/base",
            "_model_module_version": "1.2.0",
            "_model_name": "LayoutModel",
            "_view_count": null,
            "_view_module": "@jupyter-widgets/base",
            "_view_module_version": "1.2.0",
            "_view_name": "LayoutView",
            "align_content": null,
            "align_items": null,
            "align_self": null,
            "border": null,
            "bottom": null,
            "display": null,
            "flex": null,
            "flex_flow": null,
            "grid_area": null,
            "grid_auto_columns": null,
            "grid_auto_flow": null,
            "grid_auto_rows": null,
            "grid_column": null,
            "grid_gap": null,
            "grid_row": null,
            "grid_template_areas": null,
            "grid_template_columns": null,
            "grid_template_rows": null,
            "height": null,
            "justify_content": null,
            "justify_items": null,
            "left": null,
            "margin": null,
            "max_height": null,
            "max_width": null,
            "min_height": null,
            "min_width": null,
            "object_fit": null,
            "object_position": null,
            "order": null,
            "overflow": null,
            "overflow_x": null,
            "overflow_y": null,
            "padding": null,
            "right": null,
            "top": null,
            "visibility": null,
            "width": null
          }
        },
        "70798823b20743e3b913505d3c1beccb": {
          "model_module": "@jupyter-widgets/controls",
          "model_name": "ProgressStyleModel",
          "model_module_version": "1.5.0",
          "state": {
            "_model_module": "@jupyter-widgets/controls",
            "_model_module_version": "1.5.0",
            "_model_name": "ProgressStyleModel",
            "_view_count": null,
            "_view_module": "@jupyter-widgets/base",
            "_view_module_version": "1.2.0",
            "_view_name": "StyleView",
            "bar_color": null,
            "description_width": ""
          }
        },
        "80a186983465409089f5c3e1c5acafc9": {
          "model_module": "@jupyter-widgets/base",
          "model_name": "LayoutModel",
          "model_module_version": "1.2.0",
          "state": {
            "_model_module": "@jupyter-widgets/base",
            "_model_module_version": "1.2.0",
            "_model_name": "LayoutModel",
            "_view_count": null,
            "_view_module": "@jupyter-widgets/base",
            "_view_module_version": "1.2.0",
            "_view_name": "LayoutView",
            "align_content": null,
            "align_items": null,
            "align_self": null,
            "border": null,
            "bottom": null,
            "display": null,
            "flex": null,
            "flex_flow": null,
            "grid_area": null,
            "grid_auto_columns": null,
            "grid_auto_flow": null,
            "grid_auto_rows": null,
            "grid_column": null,
            "grid_gap": null,
            "grid_row": null,
            "grid_template_areas": null,
            "grid_template_columns": null,
            "grid_template_rows": null,
            "height": null,
            "justify_content": null,
            "justify_items": null,
            "left": null,
            "margin": null,
            "max_height": null,
            "max_width": null,
            "min_height": null,
            "min_width": null,
            "object_fit": null,
            "object_position": null,
            "order": null,
            "overflow": null,
            "overflow_x": null,
            "overflow_y": null,
            "padding": null,
            "right": null,
            "top": null,
            "visibility": null,
            "width": null
          }
        },
        "8654880a71f54ec5a0c3195a2c5ecd40": {
          "model_module": "@jupyter-widgets/controls",
          "model_name": "DescriptionStyleModel",
          "model_module_version": "1.5.0",
          "state": {
            "_model_module": "@jupyter-widgets/controls",
            "_model_module_version": "1.5.0",
            "_model_name": "DescriptionStyleModel",
            "_view_count": null,
            "_view_module": "@jupyter-widgets/base",
            "_view_module_version": "1.2.0",
            "_view_name": "StyleView",
            "description_width": ""
          }
        },
        "83c5865c8379467a879353741f111710": {
          "model_module": "@jupyter-widgets/controls",
          "model_name": "HBoxModel",
          "model_module_version": "1.5.0",
          "state": {
            "_dom_classes": [],
            "_model_module": "@jupyter-widgets/controls",
            "_model_module_version": "1.5.0",
            "_model_name": "HBoxModel",
            "_view_count": null,
            "_view_module": "@jupyter-widgets/controls",
            "_view_module_version": "1.5.0",
            "_view_name": "HBoxView",
            "box_style": "",
            "children": [
              "IPY_MODEL_997f9aea3018446abb6a4ff2b6d72492",
              "IPY_MODEL_91a7e2b82f42403eacb307af6fff7ed5",
              "IPY_MODEL_784d9a5450a84eb5af886bd2d2a8e305"
            ],
            "layout": "IPY_MODEL_6432270ee92f49cfb18053bb9d31205b"
          }
        },
        "997f9aea3018446abb6a4ff2b6d72492": {
          "model_module": "@jupyter-widgets/controls",
          "model_name": "HTMLModel",
          "model_module_version": "1.5.0",
          "state": {
            "_dom_classes": [],
            "_model_module": "@jupyter-widgets/controls",
            "_model_module_version": "1.5.0",
            "_model_name": "HTMLModel",
            "_view_count": null,
            "_view_module": "@jupyter-widgets/controls",
            "_view_module_version": "1.5.0",
            "_view_name": "HTMLView",
            "description": "",
            "description_tooltip": null,
            "layout": "IPY_MODEL_54c7e82f5e784f1dbc55e36e118b3ced",
            "placeholder": "​",
            "style": "IPY_MODEL_889b042eaabe4203837b8c90e13444ad",
            "value": "special_tokens_map.json: 100%"
          }
        },
        "91a7e2b82f42403eacb307af6fff7ed5": {
          "model_module": "@jupyter-widgets/controls",
          "model_name": "FloatProgressModel",
          "model_module_version": "1.5.0",
          "state": {
            "_dom_classes": [],
            "_model_module": "@jupyter-widgets/controls",
            "_model_module_version": "1.5.0",
            "_model_name": "FloatProgressModel",
            "_view_count": null,
            "_view_module": "@jupyter-widgets/controls",
            "_view_module_version": "1.5.0",
            "_view_name": "ProgressView",
            "bar_style": "success",
            "description": "",
            "description_tooltip": null,
            "layout": "IPY_MODEL_b769476436b44cb3b06096ed898424ea",
            "max": 65,
            "min": 0,
            "orientation": "horizontal",
            "style": "IPY_MODEL_f4220a8aecc848edbda8efc02ef10ca1",
            "value": 65
          }
        },
        "784d9a5450a84eb5af886bd2d2a8e305": {
          "model_module": "@jupyter-widgets/controls",
          "model_name": "HTMLModel",
          "model_module_version": "1.5.0",
          "state": {
            "_dom_classes": [],
            "_model_module": "@jupyter-widgets/controls",
            "_model_module_version": "1.5.0",
            "_model_name": "HTMLModel",
            "_view_count": null,
            "_view_module": "@jupyter-widgets/controls",
            "_view_module_version": "1.5.0",
            "_view_name": "HTMLView",
            "description": "",
            "description_tooltip": null,
            "layout": "IPY_MODEL_b31c17caf0af4b7a905eb7b9fffc609c",
            "placeholder": "​",
            "style": "IPY_MODEL_bd521b75f1d741a2a85db57438affd22",
            "value": " 65.0/65.0 [00:00&lt;00:00, 1.67kB/s]"
          }
        },
        "6432270ee92f49cfb18053bb9d31205b": {
          "model_module": "@jupyter-widgets/base",
          "model_name": "LayoutModel",
          "model_module_version": "1.2.0",
          "state": {
            "_model_module": "@jupyter-widgets/base",
            "_model_module_version": "1.2.0",
            "_model_name": "LayoutModel",
            "_view_count": null,
            "_view_module": "@jupyter-widgets/base",
            "_view_module_version": "1.2.0",
            "_view_name": "LayoutView",
            "align_content": null,
            "align_items": null,
            "align_self": null,
            "border": null,
            "bottom": null,
            "display": null,
            "flex": null,
            "flex_flow": null,
            "grid_area": null,
            "grid_auto_columns": null,
            "grid_auto_flow": null,
            "grid_auto_rows": null,
            "grid_column": null,
            "grid_gap": null,
            "grid_row": null,
            "grid_template_areas": null,
            "grid_template_columns": null,
            "grid_template_rows": null,
            "height": null,
            "justify_content": null,
            "justify_items": null,
            "left": null,
            "margin": null,
            "max_height": null,
            "max_width": null,
            "min_height": null,
            "min_width": null,
            "object_fit": null,
            "object_position": null,
            "order": null,
            "overflow": null,
            "overflow_x": null,
            "overflow_y": null,
            "padding": null,
            "right": null,
            "top": null,
            "visibility": null,
            "width": null
          }
        },
        "54c7e82f5e784f1dbc55e36e118b3ced": {
          "model_module": "@jupyter-widgets/base",
          "model_name": "LayoutModel",
          "model_module_version": "1.2.0",
          "state": {
            "_model_module": "@jupyter-widgets/base",
            "_model_module_version": "1.2.0",
            "_model_name": "LayoutModel",
            "_view_count": null,
            "_view_module": "@jupyter-widgets/base",
            "_view_module_version": "1.2.0",
            "_view_name": "LayoutView",
            "align_content": null,
            "align_items": null,
            "align_self": null,
            "border": null,
            "bottom": null,
            "display": null,
            "flex": null,
            "flex_flow": null,
            "grid_area": null,
            "grid_auto_columns": null,
            "grid_auto_flow": null,
            "grid_auto_rows": null,
            "grid_column": null,
            "grid_gap": null,
            "grid_row": null,
            "grid_template_areas": null,
            "grid_template_columns": null,
            "grid_template_rows": null,
            "height": null,
            "justify_content": null,
            "justify_items": null,
            "left": null,
            "margin": null,
            "max_height": null,
            "max_width": null,
            "min_height": null,
            "min_width": null,
            "object_fit": null,
            "object_position": null,
            "order": null,
            "overflow": null,
            "overflow_x": null,
            "overflow_y": null,
            "padding": null,
            "right": null,
            "top": null,
            "visibility": null,
            "width": null
          }
        },
        "889b042eaabe4203837b8c90e13444ad": {
          "model_module": "@jupyter-widgets/controls",
          "model_name": "DescriptionStyleModel",
          "model_module_version": "1.5.0",
          "state": {
            "_model_module": "@jupyter-widgets/controls",
            "_model_module_version": "1.5.0",
            "_model_name": "DescriptionStyleModel",
            "_view_count": null,
            "_view_module": "@jupyter-widgets/base",
            "_view_module_version": "1.2.0",
            "_view_name": "StyleView",
            "description_width": ""
          }
        },
        "b769476436b44cb3b06096ed898424ea": {
          "model_module": "@jupyter-widgets/base",
          "model_name": "LayoutModel",
          "model_module_version": "1.2.0",
          "state": {
            "_model_module": "@jupyter-widgets/base",
            "_model_module_version": "1.2.0",
            "_model_name": "LayoutModel",
            "_view_count": null,
            "_view_module": "@jupyter-widgets/base",
            "_view_module_version": "1.2.0",
            "_view_name": "LayoutView",
            "align_content": null,
            "align_items": null,
            "align_self": null,
            "border": null,
            "bottom": null,
            "display": null,
            "flex": null,
            "flex_flow": null,
            "grid_area": null,
            "grid_auto_columns": null,
            "grid_auto_flow": null,
            "grid_auto_rows": null,
            "grid_column": null,
            "grid_gap": null,
            "grid_row": null,
            "grid_template_areas": null,
            "grid_template_columns": null,
            "grid_template_rows": null,
            "height": null,
            "justify_content": null,
            "justify_items": null,
            "left": null,
            "margin": null,
            "max_height": null,
            "max_width": null,
            "min_height": null,
            "min_width": null,
            "object_fit": null,
            "object_position": null,
            "order": null,
            "overflow": null,
            "overflow_x": null,
            "overflow_y": null,
            "padding": null,
            "right": null,
            "top": null,
            "visibility": null,
            "width": null
          }
        },
        "f4220a8aecc848edbda8efc02ef10ca1": {
          "model_module": "@jupyter-widgets/controls",
          "model_name": "ProgressStyleModel",
          "model_module_version": "1.5.0",
          "state": {
            "_model_module": "@jupyter-widgets/controls",
            "_model_module_version": "1.5.0",
            "_model_name": "ProgressStyleModel",
            "_view_count": null,
            "_view_module": "@jupyter-widgets/base",
            "_view_module_version": "1.2.0",
            "_view_name": "StyleView",
            "bar_color": null,
            "description_width": ""
          }
        },
        "b31c17caf0af4b7a905eb7b9fffc609c": {
          "model_module": "@jupyter-widgets/base",
          "model_name": "LayoutModel",
          "model_module_version": "1.2.0",
          "state": {
            "_model_module": "@jupyter-widgets/base",
            "_model_module_version": "1.2.0",
            "_model_name": "LayoutModel",
            "_view_count": null,
            "_view_module": "@jupyter-widgets/base",
            "_view_module_version": "1.2.0",
            "_view_name": "LayoutView",
            "align_content": null,
            "align_items": null,
            "align_self": null,
            "border": null,
            "bottom": null,
            "display": null,
            "flex": null,
            "flex_flow": null,
            "grid_area": null,
            "grid_auto_columns": null,
            "grid_auto_flow": null,
            "grid_auto_rows": null,
            "grid_column": null,
            "grid_gap": null,
            "grid_row": null,
            "grid_template_areas": null,
            "grid_template_columns": null,
            "grid_template_rows": null,
            "height": null,
            "justify_content": null,
            "justify_items": null,
            "left": null,
            "margin": null,
            "max_height": null,
            "max_width": null,
            "min_height": null,
            "min_width": null,
            "object_fit": null,
            "object_position": null,
            "order": null,
            "overflow": null,
            "overflow_x": null,
            "overflow_y": null,
            "padding": null,
            "right": null,
            "top": null,
            "visibility": null,
            "width": null
          }
        },
        "bd521b75f1d741a2a85db57438affd22": {
          "model_module": "@jupyter-widgets/controls",
          "model_name": "DescriptionStyleModel",
          "model_module_version": "1.5.0",
          "state": {
            "_model_module": "@jupyter-widgets/controls",
            "_model_module_version": "1.5.0",
            "_model_name": "DescriptionStyleModel",
            "_view_count": null,
            "_view_module": "@jupyter-widgets/base",
            "_view_module_version": "1.2.0",
            "_view_name": "StyleView",
            "description_width": ""
          }
        },
        "dbe731bfde80479491b98111622e66d5": {
          "model_module": "@jupyter-widgets/controls",
          "model_name": "HBoxModel",
          "model_module_version": "1.5.0",
          "state": {
            "_dom_classes": [],
            "_model_module": "@jupyter-widgets/controls",
            "_model_module_version": "1.5.0",
            "_model_name": "HBoxModel",
            "_view_count": null,
            "_view_module": "@jupyter-widgets/controls",
            "_view_module_version": "1.5.0",
            "_view_name": "HBoxView",
            "box_style": "",
            "children": [
              "IPY_MODEL_9a7a6d8e34c2497d8982d4bf2a108577",
              "IPY_MODEL_17c83696743147688d81456fd4612a8a",
              "IPY_MODEL_ff406eb9af7247c68f0e127553291568"
            ],
            "layout": "IPY_MODEL_5b0e1aa4b7984a7fae4e3cd5c049a713"
          }
        },
        "9a7a6d8e34c2497d8982d4bf2a108577": {
          "model_module": "@jupyter-widgets/controls",
          "model_name": "HTMLModel",
          "model_module_version": "1.5.0",
          "state": {
            "_dom_classes": [],
            "_model_module": "@jupyter-widgets/controls",
            "_model_module_version": "1.5.0",
            "_model_name": "HTMLModel",
            "_view_count": null,
            "_view_module": "@jupyter-widgets/controls",
            "_view_module_version": "1.5.0",
            "_view_name": "HTMLView",
            "description": "",
            "description_tooltip": null,
            "layout": "IPY_MODEL_5f53cef463234b62866c98db53447d9b",
            "placeholder": "​",
            "style": "IPY_MODEL_21baab32a0094abab9ae82bfa1efe566",
            "value": "config.json: 100%"
          }
        },
        "17c83696743147688d81456fd4612a8a": {
          "model_module": "@jupyter-widgets/controls",
          "model_name": "FloatProgressModel",
          "model_module_version": "1.5.0",
          "state": {
            "_dom_classes": [],
            "_model_module": "@jupyter-widgets/controls",
            "_model_module_version": "1.5.0",
            "_model_name": "FloatProgressModel",
            "_view_count": null,
            "_view_module": "@jupyter-widgets/controls",
            "_view_module_version": "1.5.0",
            "_view_name": "ProgressView",
            "bar_style": "success",
            "description": "",
            "description_tooltip": null,
            "layout": "IPY_MODEL_6b3249ec7c66444ea41ba64ebab83be7",
            "max": 1142,
            "min": 0,
            "orientation": "horizontal",
            "style": "IPY_MODEL_b447c66b2e634a778e97768265a8140e",
            "value": 1142
          }
        },
        "ff406eb9af7247c68f0e127553291568": {
          "model_module": "@jupyter-widgets/controls",
          "model_name": "HTMLModel",
          "model_module_version": "1.5.0",
          "state": {
            "_dom_classes": [],
            "_model_module": "@jupyter-widgets/controls",
            "_model_module_version": "1.5.0",
            "_model_name": "HTMLModel",
            "_view_count": null,
            "_view_module": "@jupyter-widgets/controls",
            "_view_module_version": "1.5.0",
            "_view_name": "HTMLView",
            "description": "",
            "description_tooltip": null,
            "layout": "IPY_MODEL_cd1a083dceb94c3fa08a0eda5a233aaa",
            "placeholder": "​",
            "style": "IPY_MODEL_23cf09649526458b96716270eb133d48",
            "value": " 1.14k/1.14k [00:00&lt;00:00, 81.4kB/s]"
          }
        },
        "5b0e1aa4b7984a7fae4e3cd5c049a713": {
          "model_module": "@jupyter-widgets/base",
          "model_name": "LayoutModel",
          "model_module_version": "1.2.0",
          "state": {
            "_model_module": "@jupyter-widgets/base",
            "_model_module_version": "1.2.0",
            "_model_name": "LayoutModel",
            "_view_count": null,
            "_view_module": "@jupyter-widgets/base",
            "_view_module_version": "1.2.0",
            "_view_name": "LayoutView",
            "align_content": null,
            "align_items": null,
            "align_self": null,
            "border": null,
            "bottom": null,
            "display": null,
            "flex": null,
            "flex_flow": null,
            "grid_area": null,
            "grid_auto_columns": null,
            "grid_auto_flow": null,
            "grid_auto_rows": null,
            "grid_column": null,
            "grid_gap": null,
            "grid_row": null,
            "grid_template_areas": null,
            "grid_template_columns": null,
            "grid_template_rows": null,
            "height": null,
            "justify_content": null,
            "justify_items": null,
            "left": null,
            "margin": null,
            "max_height": null,
            "max_width": null,
            "min_height": null,
            "min_width": null,
            "object_fit": null,
            "object_position": null,
            "order": null,
            "overflow": null,
            "overflow_x": null,
            "overflow_y": null,
            "padding": null,
            "right": null,
            "top": null,
            "visibility": null,
            "width": null
          }
        },
        "5f53cef463234b62866c98db53447d9b": {
          "model_module": "@jupyter-widgets/base",
          "model_name": "LayoutModel",
          "model_module_version": "1.2.0",
          "state": {
            "_model_module": "@jupyter-widgets/base",
            "_model_module_version": "1.2.0",
            "_model_name": "LayoutModel",
            "_view_count": null,
            "_view_module": "@jupyter-widgets/base",
            "_view_module_version": "1.2.0",
            "_view_name": "LayoutView",
            "align_content": null,
            "align_items": null,
            "align_self": null,
            "border": null,
            "bottom": null,
            "display": null,
            "flex": null,
            "flex_flow": null,
            "grid_area": null,
            "grid_auto_columns": null,
            "grid_auto_flow": null,
            "grid_auto_rows": null,
            "grid_column": null,
            "grid_gap": null,
            "grid_row": null,
            "grid_template_areas": null,
            "grid_template_columns": null,
            "grid_template_rows": null,
            "height": null,
            "justify_content": null,
            "justify_items": null,
            "left": null,
            "margin": null,
            "max_height": null,
            "max_width": null,
            "min_height": null,
            "min_width": null,
            "object_fit": null,
            "object_position": null,
            "order": null,
            "overflow": null,
            "overflow_x": null,
            "overflow_y": null,
            "padding": null,
            "right": null,
            "top": null,
            "visibility": null,
            "width": null
          }
        },
        "21baab32a0094abab9ae82bfa1efe566": {
          "model_module": "@jupyter-widgets/controls",
          "model_name": "DescriptionStyleModel",
          "model_module_version": "1.5.0",
          "state": {
            "_model_module": "@jupyter-widgets/controls",
            "_model_module_version": "1.5.0",
            "_model_name": "DescriptionStyleModel",
            "_view_count": null,
            "_view_module": "@jupyter-widgets/base",
            "_view_module_version": "1.2.0",
            "_view_name": "StyleView",
            "description_width": ""
          }
        },
        "6b3249ec7c66444ea41ba64ebab83be7": {
          "model_module": "@jupyter-widgets/base",
          "model_name": "LayoutModel",
          "model_module_version": "1.2.0",
          "state": {
            "_model_module": "@jupyter-widgets/base",
            "_model_module_version": "1.2.0",
            "_model_name": "LayoutModel",
            "_view_count": null,
            "_view_module": "@jupyter-widgets/base",
            "_view_module_version": "1.2.0",
            "_view_name": "LayoutView",
            "align_content": null,
            "align_items": null,
            "align_self": null,
            "border": null,
            "bottom": null,
            "display": null,
            "flex": null,
            "flex_flow": null,
            "grid_area": null,
            "grid_auto_columns": null,
            "grid_auto_flow": null,
            "grid_auto_rows": null,
            "grid_column": null,
            "grid_gap": null,
            "grid_row": null,
            "grid_template_areas": null,
            "grid_template_columns": null,
            "grid_template_rows": null,
            "height": null,
            "justify_content": null,
            "justify_items": null,
            "left": null,
            "margin": null,
            "max_height": null,
            "max_width": null,
            "min_height": null,
            "min_width": null,
            "object_fit": null,
            "object_position": null,
            "order": null,
            "overflow": null,
            "overflow_x": null,
            "overflow_y": null,
            "padding": null,
            "right": null,
            "top": null,
            "visibility": null,
            "width": null
          }
        },
        "b447c66b2e634a778e97768265a8140e": {
          "model_module": "@jupyter-widgets/controls",
          "model_name": "ProgressStyleModel",
          "model_module_version": "1.5.0",
          "state": {
            "_model_module": "@jupyter-widgets/controls",
            "_model_module_version": "1.5.0",
            "_model_name": "ProgressStyleModel",
            "_view_count": null,
            "_view_module": "@jupyter-widgets/base",
            "_view_module_version": "1.2.0",
            "_view_name": "StyleView",
            "bar_color": null,
            "description_width": ""
          }
        },
        "cd1a083dceb94c3fa08a0eda5a233aaa": {
          "model_module": "@jupyter-widgets/base",
          "model_name": "LayoutModel",
          "model_module_version": "1.2.0",
          "state": {
            "_model_module": "@jupyter-widgets/base",
            "_model_module_version": "1.2.0",
            "_model_name": "LayoutModel",
            "_view_count": null,
            "_view_module": "@jupyter-widgets/base",
            "_view_module_version": "1.2.0",
            "_view_name": "LayoutView",
            "align_content": null,
            "align_items": null,
            "align_self": null,
            "border": null,
            "bottom": null,
            "display": null,
            "flex": null,
            "flex_flow": null,
            "grid_area": null,
            "grid_auto_columns": null,
            "grid_auto_flow": null,
            "grid_auto_rows": null,
            "grid_column": null,
            "grid_gap": null,
            "grid_row": null,
            "grid_template_areas": null,
            "grid_template_columns": null,
            "grid_template_rows": null,
            "height": null,
            "justify_content": null,
            "justify_items": null,
            "left": null,
            "margin": null,
            "max_height": null,
            "max_width": null,
            "min_height": null,
            "min_width": null,
            "object_fit": null,
            "object_position": null,
            "order": null,
            "overflow": null,
            "overflow_x": null,
            "overflow_y": null,
            "padding": null,
            "right": null,
            "top": null,
            "visibility": null,
            "width": null
          }
        },
        "23cf09649526458b96716270eb133d48": {
          "model_module": "@jupyter-widgets/controls",
          "model_name": "DescriptionStyleModel",
          "model_module_version": "1.5.0",
          "state": {
            "_model_module": "@jupyter-widgets/controls",
            "_model_module_version": "1.5.0",
            "_model_name": "DescriptionStyleModel",
            "_view_count": null,
            "_view_module": "@jupyter-widgets/base",
            "_view_module_version": "1.2.0",
            "_view_name": "StyleView",
            "description_width": ""
          }
        },
        "8ceb74d3139f46aaaebbba91bdc76a91": {
          "model_module": "@jupyter-widgets/controls",
          "model_name": "HBoxModel",
          "model_module_version": "1.5.0",
          "state": {
            "_dom_classes": [],
            "_model_module": "@jupyter-widgets/controls",
            "_model_module_version": "1.5.0",
            "_model_name": "HBoxModel",
            "_view_count": null,
            "_view_module": "@jupyter-widgets/controls",
            "_view_module_version": "1.5.0",
            "_view_name": "HBoxView",
            "box_style": "",
            "children": [
              "IPY_MODEL_c328feb70e04461f9fc48ef39f86f82c",
              "IPY_MODEL_a47c2c80115b479dbbcda5f95f9e7fff",
              "IPY_MODEL_3d4a10a5927b4d92bd13d669beba4b58"
            ],
            "layout": "IPY_MODEL_01ffe482650a4455a1c30cbb9beca1ca"
          }
        },
        "c328feb70e04461f9fc48ef39f86f82c": {
          "model_module": "@jupyter-widgets/controls",
          "model_name": "HTMLModel",
          "model_module_version": "1.5.0",
          "state": {
            "_dom_classes": [],
            "_model_module": "@jupyter-widgets/controls",
            "_model_module_version": "1.5.0",
            "_model_name": "HTMLModel",
            "_view_count": null,
            "_view_module": "@jupyter-widgets/controls",
            "_view_module_version": "1.5.0",
            "_view_name": "HTMLView",
            "description": "",
            "description_tooltip": null,
            "layout": "IPY_MODEL_f172ffb08d0446709828bdc98d509fb2",
            "placeholder": "​",
            "style": "IPY_MODEL_256337fe688a4a7987dfb7643f989425",
            "value": "pytorch_model.bin: 100%"
          }
        },
        "a47c2c80115b479dbbcda5f95f9e7fff": {
          "model_module": "@jupyter-widgets/controls",
          "model_name": "FloatProgressModel",
          "model_module_version": "1.5.0",
          "state": {
            "_dom_classes": [],
            "_model_module": "@jupyter-widgets/controls",
            "_model_module_version": "1.5.0",
            "_model_name": "FloatProgressModel",
            "_view_count": null,
            "_view_module": "@jupyter-widgets/controls",
            "_view_module_version": "1.5.0",
            "_view_name": "ProgressView",
            "bar_style": "success",
            "description": "",
            "description_tooltip": null,
            "layout": "IPY_MODEL_f86e9b3b89d54f19bdb340ab2deddc5e",
            "max": 2275437102,
            "min": 0,
            "orientation": "horizontal",
            "style": "IPY_MODEL_e9a2b2eadb454ed899bdb10dad2a0ed5",
            "value": 2275437102
          }
        },
        "3d4a10a5927b4d92bd13d669beba4b58": {
          "model_module": "@jupyter-widgets/controls",
          "model_name": "HTMLModel",
          "model_module_version": "1.5.0",
          "state": {
            "_dom_classes": [],
            "_model_module": "@jupyter-widgets/controls",
            "_model_module_version": "1.5.0",
            "_model_name": "HTMLModel",
            "_view_count": null,
            "_view_module": "@jupyter-widgets/controls",
            "_view_module_version": "1.5.0",
            "_view_name": "HTMLView",
            "description": "",
            "description_tooltip": null,
            "layout": "IPY_MODEL_b16032b603554d64aadcbfc5d2d4202a",
            "placeholder": "​",
            "style": "IPY_MODEL_8582ad53d23843278f7ba8534f7550c0",
            "value": " 2.28G/2.28G [00:10&lt;00:00, 218MB/s]"
          }
        },
        "01ffe482650a4455a1c30cbb9beca1ca": {
          "model_module": "@jupyter-widgets/base",
          "model_name": "LayoutModel",
          "model_module_version": "1.2.0",
          "state": {
            "_model_module": "@jupyter-widgets/base",
            "_model_module_version": "1.2.0",
            "_model_name": "LayoutModel",
            "_view_count": null,
            "_view_module": "@jupyter-widgets/base",
            "_view_module_version": "1.2.0",
            "_view_name": "LayoutView",
            "align_content": null,
            "align_items": null,
            "align_self": null,
            "border": null,
            "bottom": null,
            "display": null,
            "flex": null,
            "flex_flow": null,
            "grid_area": null,
            "grid_auto_columns": null,
            "grid_auto_flow": null,
            "grid_auto_rows": null,
            "grid_column": null,
            "grid_gap": null,
            "grid_row": null,
            "grid_template_areas": null,
            "grid_template_columns": null,
            "grid_template_rows": null,
            "height": null,
            "justify_content": null,
            "justify_items": null,
            "left": null,
            "margin": null,
            "max_height": null,
            "max_width": null,
            "min_height": null,
            "min_width": null,
            "object_fit": null,
            "object_position": null,
            "order": null,
            "overflow": null,
            "overflow_x": null,
            "overflow_y": null,
            "padding": null,
            "right": null,
            "top": null,
            "visibility": null,
            "width": null
          }
        },
        "f172ffb08d0446709828bdc98d509fb2": {
          "model_module": "@jupyter-widgets/base",
          "model_name": "LayoutModel",
          "model_module_version": "1.2.0",
          "state": {
            "_model_module": "@jupyter-widgets/base",
            "_model_module_version": "1.2.0",
            "_model_name": "LayoutModel",
            "_view_count": null,
            "_view_module": "@jupyter-widgets/base",
            "_view_module_version": "1.2.0",
            "_view_name": "LayoutView",
            "align_content": null,
            "align_items": null,
            "align_self": null,
            "border": null,
            "bottom": null,
            "display": null,
            "flex": null,
            "flex_flow": null,
            "grid_area": null,
            "grid_auto_columns": null,
            "grid_auto_flow": null,
            "grid_auto_rows": null,
            "grid_column": null,
            "grid_gap": null,
            "grid_row": null,
            "grid_template_areas": null,
            "grid_template_columns": null,
            "grid_template_rows": null,
            "height": null,
            "justify_content": null,
            "justify_items": null,
            "left": null,
            "margin": null,
            "max_height": null,
            "max_width": null,
            "min_height": null,
            "min_width": null,
            "object_fit": null,
            "object_position": null,
            "order": null,
            "overflow": null,
            "overflow_x": null,
            "overflow_y": null,
            "padding": null,
            "right": null,
            "top": null,
            "visibility": null,
            "width": null
          }
        },
        "256337fe688a4a7987dfb7643f989425": {
          "model_module": "@jupyter-widgets/controls",
          "model_name": "DescriptionStyleModel",
          "model_module_version": "1.5.0",
          "state": {
            "_model_module": "@jupyter-widgets/controls",
            "_model_module_version": "1.5.0",
            "_model_name": "DescriptionStyleModel",
            "_view_count": null,
            "_view_module": "@jupyter-widgets/base",
            "_view_module_version": "1.2.0",
            "_view_name": "StyleView",
            "description_width": ""
          }
        },
        "f86e9b3b89d54f19bdb340ab2deddc5e": {
          "model_module": "@jupyter-widgets/base",
          "model_name": "LayoutModel",
          "model_module_version": "1.2.0",
          "state": {
            "_model_module": "@jupyter-widgets/base",
            "_model_module_version": "1.2.0",
            "_model_name": "LayoutModel",
            "_view_count": null,
            "_view_module": "@jupyter-widgets/base",
            "_view_module_version": "1.2.0",
            "_view_name": "LayoutView",
            "align_content": null,
            "align_items": null,
            "align_self": null,
            "border": null,
            "bottom": null,
            "display": null,
            "flex": null,
            "flex_flow": null,
            "grid_area": null,
            "grid_auto_columns": null,
            "grid_auto_flow": null,
            "grid_auto_rows": null,
            "grid_column": null,
            "grid_gap": null,
            "grid_row": null,
            "grid_template_areas": null,
            "grid_template_columns": null,
            "grid_template_rows": null,
            "height": null,
            "justify_content": null,
            "justify_items": null,
            "left": null,
            "margin": null,
            "max_height": null,
            "max_width": null,
            "min_height": null,
            "min_width": null,
            "object_fit": null,
            "object_position": null,
            "order": null,
            "overflow": null,
            "overflow_x": null,
            "overflow_y": null,
            "padding": null,
            "right": null,
            "top": null,
            "visibility": null,
            "width": null
          }
        },
        "e9a2b2eadb454ed899bdb10dad2a0ed5": {
          "model_module": "@jupyter-widgets/controls",
          "model_name": "ProgressStyleModel",
          "model_module_version": "1.5.0",
          "state": {
            "_model_module": "@jupyter-widgets/controls",
            "_model_module_version": "1.5.0",
            "_model_name": "ProgressStyleModel",
            "_view_count": null,
            "_view_module": "@jupyter-widgets/base",
            "_view_module_version": "1.2.0",
            "_view_name": "StyleView",
            "bar_color": null,
            "description_width": ""
          }
        },
        "b16032b603554d64aadcbfc5d2d4202a": {
          "model_module": "@jupyter-widgets/base",
          "model_name": "LayoutModel",
          "model_module_version": "1.2.0",
          "state": {
            "_model_module": "@jupyter-widgets/base",
            "_model_module_version": "1.2.0",
            "_model_name": "LayoutModel",
            "_view_count": null,
            "_view_module": "@jupyter-widgets/base",
            "_view_module_version": "1.2.0",
            "_view_name": "LayoutView",
            "align_content": null,
            "align_items": null,
            "align_self": null,
            "border": null,
            "bottom": null,
            "display": null,
            "flex": null,
            "flex_flow": null,
            "grid_area": null,
            "grid_auto_columns": null,
            "grid_auto_flow": null,
            "grid_auto_rows": null,
            "grid_column": null,
            "grid_gap": null,
            "grid_row": null,
            "grid_template_areas": null,
            "grid_template_columns": null,
            "grid_template_rows": null,
            "height": null,
            "justify_content": null,
            "justify_items": null,
            "left": null,
            "margin": null,
            "max_height": null,
            "max_width": null,
            "min_height": null,
            "min_width": null,
            "object_fit": null,
            "object_position": null,
            "order": null,
            "overflow": null,
            "overflow_x": null,
            "overflow_y": null,
            "padding": null,
            "right": null,
            "top": null,
            "visibility": null,
            "width": null
          }
        },
        "8582ad53d23843278f7ba8534f7550c0": {
          "model_module": "@jupyter-widgets/controls",
          "model_name": "DescriptionStyleModel",
          "model_module_version": "1.5.0",
          "state": {
            "_model_module": "@jupyter-widgets/controls",
            "_model_module_version": "1.5.0",
            "_model_name": "DescriptionStyleModel",
            "_view_count": null,
            "_view_module": "@jupyter-widgets/base",
            "_view_module_version": "1.2.0",
            "_view_name": "StyleView",
            "description_width": ""
          }
        }
      }
    }
  },
  "cells": [
    {
      "cell_type": "markdown",
      "metadata": {
        "id": "4njR9yRpVLYY"
      },
      "source": [
        "# **Install library**"
      ]
    },
    {
      "cell_type": "code",
      "metadata": {
        "id": "a3VswpH3ftGo"
      },
      "source": [
        "!pip install sentence-splitter"
      ],
      "execution_count": null,
      "outputs": []
    },
    {
      "cell_type": "code",
      "metadata": {
        "id": "asu-lhsoV1KZ"
      },
      "source": [
        "!pip install transformers"
      ],
      "execution_count": 2,
      "outputs": []
    },
    {
      "cell_type": "code",
      "metadata": {
        "id": "0oFm6iQpyMve"
      },
      "source": [
        "!pip install SentencePiece"
      ],
      "execution_count": null,
      "outputs": []
    },
    {
      "cell_type": "code",
      "metadata": {
        "id": "_yCRu_3CNaTE",
        "colab": {
          "base_uri": "https://localhost:8080/",
          "height": 336,
          "referenced_widgets": [
            "d9c67178594c43acb49868825e14d6dc",
            "477f8d91ae8a44d58249fca8a64880a1",
            "d186b8a3e4e142d5bc27c125520fee0b",
            "9f1a0555a2504346a623fe8eddfdbe6d",
            "953cf3feb9bc43888f752489f5bcffc1",
            "d5a1327c44fe4e1aa131395c8de78676",
            "9d79e29fbe75428eb60f02c7e5b13417",
            "904ab1fb0a11491287338222fb67a6ee",
            "4c166d447ff445079e25b4797e3421f8",
            "205165b208d14366aad63d8f37bcac4d",
            "14b5fd0853e74630a5e6730ce0f0587b",
            "92d8ebef071045e29028df8fe029842c",
            "b73944fa143f41568ab7ef9b250647cd",
            "f09ebd47a2a846499bbb9f9e651988b2",
            "d5a4968cfe964ff4b4b3ad3c03fd771e",
            "aca0f086e4c143dd9f15836e286783c4",
            "84cae24722774b15a296bf694429537d",
            "65c581a60620460e88cb76e7812d8ac5",
            "cc1f76ee4f8b40088f329d44c7a1ff4b",
            "70798823b20743e3b913505d3c1beccb",
            "80a186983465409089f5c3e1c5acafc9",
            "8654880a71f54ec5a0c3195a2c5ecd40",
            "83c5865c8379467a879353741f111710",
            "997f9aea3018446abb6a4ff2b6d72492",
            "91a7e2b82f42403eacb307af6fff7ed5",
            "784d9a5450a84eb5af886bd2d2a8e305",
            "6432270ee92f49cfb18053bb9d31205b",
            "54c7e82f5e784f1dbc55e36e118b3ced",
            "889b042eaabe4203837b8c90e13444ad",
            "b769476436b44cb3b06096ed898424ea",
            "f4220a8aecc848edbda8efc02ef10ca1",
            "b31c17caf0af4b7a905eb7b9fffc609c",
            "bd521b75f1d741a2a85db57438affd22",
            "dbe731bfde80479491b98111622e66d5",
            "9a7a6d8e34c2497d8982d4bf2a108577",
            "17c83696743147688d81456fd4612a8a",
            "ff406eb9af7247c68f0e127553291568",
            "5b0e1aa4b7984a7fae4e3cd5c049a713",
            "5f53cef463234b62866c98db53447d9b",
            "21baab32a0094abab9ae82bfa1efe566",
            "6b3249ec7c66444ea41ba64ebab83be7",
            "b447c66b2e634a778e97768265a8140e",
            "cd1a083dceb94c3fa08a0eda5a233aaa",
            "23cf09649526458b96716270eb133d48",
            "8ceb74d3139f46aaaebbba91bdc76a91",
            "c328feb70e04461f9fc48ef39f86f82c",
            "a47c2c80115b479dbbcda5f95f9e7fff",
            "3d4a10a5927b4d92bd13d669beba4b58",
            "01ffe482650a4455a1c30cbb9beca1ca",
            "f172ffb08d0446709828bdc98d509fb2",
            "256337fe688a4a7987dfb7643f989425",
            "f86e9b3b89d54f19bdb340ab2deddc5e",
            "e9a2b2eadb454ed899bdb10dad2a0ed5",
            "b16032b603554d64aadcbfc5d2d4202a",
            "8582ad53d23843278f7ba8534f7550c0"
          ]
        },
        "outputId": "8c1cd173-cb76-432f-dd06-70b7d69280cf"
      },
      "source": [
        "import torch\n",
        "from transformers import PegasusForConditionalGeneration, PegasusTokenizer\n",
        "\n",
        "model_name = 'tuner007/pegasus_paraphrase'\n",
        "torch_device = 'cuda' if torch.cuda.is_available() else 'cpu'\n",
        "tokenizer = PegasusTokenizer.from_pretrained(model_name)\n",
        "model = PegasusForConditionalGeneration.from_pretrained(model_name).to(torch_device)\n",
        "\n",
        "def get_response(input_text,num_return_sequences):\n",
        "  batch = tokenizer.prepare_seq2seq_batch([input_text],truncation=True,padding='longest',max_length=60, return_tensors=\"pt\").to(torch_device)\n",
        "  translated = model.generate(**batch,max_length=60,num_beams=10, num_return_sequences=num_return_sequences, temperature=1.5)\n",
        "  tgt_text = tokenizer.batch_decode(translated, skip_special_tokens=True)\n",
        "  return tgt_text"
      ],
      "execution_count": 4,
      "outputs": [
        {
          "output_type": "stream",
          "name": "stderr",
          "text": [
            "/usr/local/lib/python3.10/dist-packages/huggingface_hub/utils/_token.py:72: UserWarning: \n",
            "The secret `HF_TOKEN` does not exist in your Colab secrets.\n",
            "To authenticate with the Hugging Face Hub, create a token in your settings tab (https://huggingface.co/settings/tokens), set it as secret in your Google Colab and restart your session.\n",
            "You will be able to reuse this secret in all of your notebooks.\n",
            "Please note that authentication is recommended but still optional to access public models or datasets.\n",
            "  warnings.warn(\n"
          ]
        },
        {
          "output_type": "display_data",
          "data": {
            "text/plain": [
              "tokenizer_config.json:   0%|          | 0.00/86.0 [00:00<?, ?B/s]"
            ],
            "application/vnd.jupyter.widget-view+json": {
              "version_major": 2,
              "version_minor": 0,
              "model_id": "d9c67178594c43acb49868825e14d6dc"
            }
          },
          "metadata": {}
        },
        {
          "output_type": "display_data",
          "data": {
            "text/plain": [
              "spiece.model:   0%|          | 0.00/1.91M [00:00<?, ?B/s]"
            ],
            "application/vnd.jupyter.widget-view+json": {
              "version_major": 2,
              "version_minor": 0,
              "model_id": "92d8ebef071045e29028df8fe029842c"
            }
          },
          "metadata": {}
        },
        {
          "output_type": "display_data",
          "data": {
            "text/plain": [
              "special_tokens_map.json:   0%|          | 0.00/65.0 [00:00<?, ?B/s]"
            ],
            "application/vnd.jupyter.widget-view+json": {
              "version_major": 2,
              "version_minor": 0,
              "model_id": "83c5865c8379467a879353741f111710"
            }
          },
          "metadata": {}
        },
        {
          "output_type": "display_data",
          "data": {
            "text/plain": [
              "config.json:   0%|          | 0.00/1.14k [00:00<?, ?B/s]"
            ],
            "application/vnd.jupyter.widget-view+json": {
              "version_major": 2,
              "version_minor": 0,
              "model_id": "dbe731bfde80479491b98111622e66d5"
            }
          },
          "metadata": {}
        },
        {
          "output_type": "display_data",
          "data": {
            "text/plain": [
              "pytorch_model.bin:   0%|          | 0.00/2.28G [00:00<?, ?B/s]"
            ],
            "application/vnd.jupyter.widget-view+json": {
              "version_major": 2,
              "version_minor": 0,
              "model_id": "8ceb74d3139f46aaaebbba91bdc76a91"
            }
          },
          "metadata": {}
        },
        {
          "output_type": "stream",
          "name": "stderr",
          "text": [
            "Some weights of PegasusForConditionalGeneration were not initialized from the model checkpoint at tuner007/pegasus_paraphrase and are newly initialized: ['model.decoder.embed_positions.weight', 'model.encoder.embed_positions.weight']\n",
            "You should probably TRAIN this model on a down-stream task to be able to use it for predictions and inference.\n"
          ]
        }
      ]
    },
    {
      "cell_type": "markdown",
      "metadata": {
        "id": "lva62WD3gScS"
      },
      "source": [
        "---"
      ]
    },
    {
      "cell_type": "markdown",
      "metadata": {
        "id": "6A44V5YUTdHP"
      },
      "source": [
        "## **Processing a single sentence**"
      ]
    },
    {
      "cell_type": "code",
      "metadata": {
        "id": "zzrMc_I2TgV9"
      },
      "source": [
        "text = \"In 1999, two British tourists, Liz Hunter and Kristy Earl, are backpacking across Australia with Ben Mitchell, an Australian friend.\""
      ],
      "execution_count": 16,
      "outputs": []
    },
    {
      "cell_type": "code",
      "metadata": {
        "colab": {
          "base_uri": "https://localhost:8080/"
        },
        "id": "CBbJmP4jTrne",
        "outputId": "055fc72d-57ef-4779-867f-71ea9ef781d4"
      },
      "source": [
        "get_response(text, 5)"
      ],
      "execution_count": 17,
      "outputs": [
        {
          "output_type": "execute_result",
          "data": {
            "text/plain": [
              "['Two British tourists are backpacking across Australia with an Australian friend.',\n",
              " 'In 1999, two British tourists, Liz Hunter and Kristy Earl, are backpacking across Australia with an Australian friend.',\n",
              " 'Two British tourists, Liz Hunter and Kristy Earl, are backpacking across Australia with an Australian friend.',\n",
              " 'In 1999, two British tourists, Liz Hunter and Kristy Earl, are backpacking across Australia with Ben Mitchell.',\n",
              " 'In 1999, two British tourists, Liz Hunter and Kristy Earl, are backpacking across Australia with a friend.']"
            ]
          },
          "metadata": {},
          "execution_count": 17
        }
      ]
    },
    {
      "cell_type": "code",
      "metadata": {
        "colab": {
          "base_uri": "https://localhost:8080/"
        },
        "id": "3xmOh_62Tujy",
        "outputId": "2203d977-71ce-4630-8f99-a7093fc96a5a"
      },
      "source": [
        "get_response(text, 1)"
      ],
      "execution_count": 18,
      "outputs": [
        {
          "output_type": "execute_result",
          "data": {
            "text/plain": [
              "['Two British tourists are backpacking across Australia with an Australian friend.']"
            ]
          },
          "metadata": {},
          "execution_count": 18
        }
      ]
    },
    {
      "cell_type": "markdown",
      "metadata": {
        "id": "HXeaFgNcTV9B"
      },
      "source": [
        "## **Processing a paragraph of text**"
      ]
    },
    {
      "cell_type": "code",
      "metadata": {
        "id": "yOiKx9cPNanF",
        "colab": {
          "base_uri": "https://localhost:8080/"
        },
        "outputId": "7457b35f-aae1-4594-e294-9f42b75b3272"
      },
      "source": [
        "# Paragraph of text\n",
        "context = \"In 1999, two British tourists, Liz Hunter and Kristy Earl, are backpacking across Australia with Ben Mitchell, an Australian friend. Ben buys a dilapidated car for their journey from Broome to Cairns, Queensland via the Great Northern Highway. The trio makes a stop at Wolf Creek National Park. Hours later, they discover that their watches have stopped and the car will not start. After dark, a man named Mick Taylor comes across them and offers to tow them to his camp to repair the car. The group goes with him to an abandoned mining site several hours south of Wolf Creek. Mick regales them with tall stories of his past while making a show of fixing their car. He then gives the group water which causes them to fall unconscious. Liz awakens gagged and tied in a shed. She breaks free and hears Mick torturing Kristy in a garage; it is implied that Mick had sexually assaulted her. Liz sets the now-dismantled car on fire to distract him, and goes to help Kristy. When Mick returns, she shoots him with his rifle, the bullet hitting him in the neck. The women attempt to flee in Mick's truck. Mick stumbles out of the garage and shoots at them before giving chase. The women evade him by pushing his truck off a cliff before returning to the site to get another car. Liz leaves the hysterical Kristy outside, telling her to escape on foot if Liz does not return in five minutes. Liz enters another garage and discovers Mick's large stock of cars and travellers' possessions, including video cameras. She watches the playback on one of them and is horrified to see Mick helping other travellers stranded at Wolf Creek. She picks up Ben's camera and notices Mick's truck in the footage; he had followed them long before they got to Wolf Creek. She gets into a car but Mick appears in the backseat and stabs her with a bowie knife. Liz crawls out and he hacks her fingers off, then severs her spinal cord, paralyzing her. He interrogates her as to Kristy's whereabouts. By dawn, Kristy has reached a highway and is discovered by a passing motorist. He attempts to help her but is shot dead by Mick with a hunting rifle. Mick gives chase, prompting Kristy to take off in the dead man's car. Kristy sideswipes Mick's car into a ditch when he pulls up alongside and begins to get away, but Mick emerges and shoots out her back tire causing her in turn to drive into a ditch, rolling the car. She attempts to crawl away, but is shot dead. Mick bundles her body and the dead motorist into the back of his car and torches the car. Ben awakens nailed to a mock crucifix in a mine shaft. He extracts himself and enters the camp in early daylight. He escapes into the outback, but becomes dehydrated and passes out beside a dirt road. He is discovered by a Swedish couple who take him to Kalbarri, where he is airlifted to a hospital.\"\n",
        "print(context)"
      ],
      "execution_count": 8,
      "outputs": [
        {
          "output_type": "stream",
          "name": "stdout",
          "text": [
            "In 1999, two British tourists, Liz Hunter and Kristy Earl, are backpacking across Australia with Ben Mitchell, an Australian friend. Ben buys a dilapidated car for their journey from Broome to Cairns, Queensland via the Great Northern Highway. The trio makes a stop at Wolf Creek National Park. Hours later, they discover that their watches have stopped and the car will not start. After dark, a man named Mick Taylor comes across them and offers to tow them to his camp to repair the car. The group goes with him to an abandoned mining site several hours south of Wolf Creek. Mick regales them with tall stories of his past while making a show of fixing their car. He then gives the group water which causes them to fall unconscious. Liz awakens gagged and tied in a shed. She breaks free and hears Mick torturing Kristy in a garage; it is implied that Mick had sexually assaulted her. Liz sets the now-dismantled car on fire to distract him, and goes to help Kristy. When Mick returns, she shoots him with his rifle, the bullet hitting him in the neck. The women attempt to flee in Mick's truck. Mick stumbles out of the garage and shoots at them before giving chase. The women evade him by pushing his truck off a cliff before returning to the site to get another car. Liz leaves the hysterical Kristy outside, telling her to escape on foot if Liz does not return in five minutes. Liz enters another garage and discovers Mick's large stock of cars and travellers' possessions, including video cameras. She watches the playback on one of them and is horrified to see Mick helping other travellers stranded at Wolf Creek. She picks up Ben's camera and notices Mick's truck in the footage; he had followed them long before they got to Wolf Creek. She gets into a car but Mick appears in the backseat and stabs her with a bowie knife. Liz crawls out and he hacks her fingers off, then severs her spinal cord, paralyzing her. He interrogates her as to Kristy's whereabouts. By dawn, Kristy has reached a highway and is discovered by a passing motorist. He attempts to help her but is shot dead by Mick with a hunting rifle. Mick gives chase, prompting Kristy to take off in the dead man's car. Kristy sideswipes Mick's car into a ditch when he pulls up alongside and begins to get away, but Mick emerges and shoots out her back tire causing her in turn to drive into a ditch, rolling the car. She attempts to crawl away, but is shot dead. Mick bundles her body and the dead motorist into the back of his car and torches the car. Ben awakens nailed to a mock crucifix in a mine shaft. He extracts himself and enters the camp in early daylight. He escapes into the outback, but becomes dehydrated and passes out beside a dirt road. He is discovered by a Swedish couple who take him to Kalbarri, where he is airlifted to a hospital.\n"
          ]
        }
      ]
    },
    {
      "cell_type": "code",
      "metadata": {
        "colab": {
          "base_uri": "https://localhost:8080/"
        },
        "id": "Fk-oJbtUNxkP",
        "outputId": "6a36c753-090f-4ebf-ff3f-f52679376adf"
      },
      "source": [
        "# Takes the input paragraph and splits it into a list of sentences\n",
        "from sentence_splitter import SentenceSplitter, split_text_into_sentences\n",
        "\n",
        "splitter = SentenceSplitter(language='en')\n",
        "\n",
        "sentence_list = splitter.split(context)\n",
        "sentence_list"
      ],
      "execution_count": 9,
      "outputs": [
        {
          "output_type": "execute_result",
          "data": {
            "text/plain": [
              "['In 1999, two British tourists, Liz Hunter and Kristy Earl, are backpacking across Australia with Ben Mitchell, an Australian friend.',\n",
              " 'Ben buys a dilapidated car for their journey from Broome to Cairns, Queensland via the Great Northern Highway.',\n",
              " 'The trio makes a stop at Wolf Creek National Park.',\n",
              " 'Hours later, they discover that their watches have stopped and the car will not start.',\n",
              " 'After dark, a man named Mick Taylor comes across them and offers to tow them to his camp to repair the car.',\n",
              " 'The group goes with him to an abandoned mining site several hours south of Wolf Creek.',\n",
              " 'Mick regales them with tall stories of his past while making a show of fixing their car.',\n",
              " 'He then gives the group water which causes them to fall unconscious.',\n",
              " 'Liz awakens gagged and tied in a shed.',\n",
              " 'She breaks free and hears Mick torturing Kristy in a garage; it is implied that Mick had sexually assaulted her.',\n",
              " 'Liz sets the now-dismantled car on fire to distract him, and goes to help Kristy.',\n",
              " 'When Mick returns, she shoots him with his rifle, the bullet hitting him in the neck.',\n",
              " \"The women attempt to flee in Mick's truck.\",\n",
              " 'Mick stumbles out of the garage and shoots at them before giving chase.',\n",
              " 'The women evade him by pushing his truck off a cliff before returning to the site to get another car.',\n",
              " 'Liz leaves the hysterical Kristy outside, telling her to escape on foot if Liz does not return in five minutes.',\n",
              " \"Liz enters another garage and discovers Mick's large stock of cars and travellers' possessions, including video cameras.\",\n",
              " 'She watches the playback on one of them and is horrified to see Mick helping other travellers stranded at Wolf Creek.',\n",
              " \"She picks up Ben's camera and notices Mick's truck in the footage; he had followed them long before they got to Wolf Creek.\",\n",
              " 'She gets into a car but Mick appears in the backseat and stabs her with a bowie knife.',\n",
              " 'Liz crawls out and he hacks her fingers off, then severs her spinal cord, paralyzing her.',\n",
              " \"He interrogates her as to Kristy's whereabouts.\",\n",
              " 'By dawn, Kristy has reached a highway and is discovered by a passing motorist.',\n",
              " 'He attempts to help her but is shot dead by Mick with a hunting rifle.',\n",
              " \"Mick gives chase, prompting Kristy to take off in the dead man's car.\",\n",
              " \"Kristy sideswipes Mick's car into a ditch when he pulls up alongside and begins to get away, but Mick emerges and shoots out her back tire causing her in turn to drive into a ditch, rolling the car.\",\n",
              " 'She attempts to crawl away, but is shot dead.',\n",
              " 'Mick bundles her body and the dead motorist into the back of his car and torches the car.',\n",
              " 'Ben awakens nailed to a mock crucifix in a mine shaft.',\n",
              " 'He extracts himself and enters the camp in early daylight.',\n",
              " 'He escapes into the outback, but becomes dehydrated and passes out beside a dirt road.',\n",
              " 'He is discovered by a Swedish couple who take him to Kalbarri, where he is airlifted to a hospital.']"
            ]
          },
          "metadata": {},
          "execution_count": 9
        }
      ]
    },
    {
      "cell_type": "code",
      "metadata": {
        "id": "QdE0CH6agx8H"
      },
      "source": [
        "# Do a for loop to iterate through the list of sentences and paraphrase each sentence in the iteration\n",
        "paraphrase = []\n",
        "\n",
        "for i in sentence_list:\n",
        "  a = get_response(i,1)\n",
        "  paraphrase.append(a)"
      ],
      "execution_count": 10,
      "outputs": []
    },
    {
      "cell_type": "code",
      "metadata": {
        "colab": {
          "base_uri": "https://localhost:8080/"
        },
        "id": "i1zyKct5jM3C",
        "outputId": "7518ee4b-4d1b-4539-e9c6-0c803679aa69"
      },
      "source": [
        "# This is the paraphrased text\n",
        "paraphrase"
      ],
      "execution_count": 11,
      "outputs": [
        {
          "output_type": "execute_result",
          "data": {
            "text/plain": [
              "[['Two British tourists are backpacking across Australia with an Australian friend.'],\n",
              " ['Ben buys a car for their journey from Broome to the Great Northern Highway.'],\n",
              " ['The trio stopped at Wolf Creek National Park.'],\n",
              " [\"The watches stopped and the car wouldn't start.\"],\n",
              " ['Mick Taylor came across them after dark and offered to tow them to his camp to fix the car.'],\n",
              " ['The abandoned mining site is south of Wolf Creek.'],\n",
              " ['Mick regales them with stories of his past while fixing their car.'],\n",
              " ['The water causes them to fall unconscious.'],\n",
              " ['Liz was tied up in a shed.'],\n",
              " ['It is implied that Mick had sexually assault her when she broke free.'],\n",
              " ['Liz tries to distract him by setting his car on fire.'],\n",
              " ['She shoots him with his rifle, hitting him in the neck.'],\n",
              " [\"The women tried to escape in Mick's truck.\"],\n",
              " ['Mick stumbles out of the garage and shoots at them.'],\n",
              " ['The women pushed his truck off a cliff in order to get another car.'],\n",
              " [\"If Liz doesn't come back in five minutes, Liz leaves the hysterical Kristy outside.\"],\n",
              " [\"Mick's large stock of cars and travellers' possessions were discovered by Liz when she entered another garage.\"],\n",
              " ['She is horrified to see Mick helping other travellers stranded at Wolf Creek.'],\n",
              " [\"She picked up Ben's camera and noticed Mick's truck in the footage; he had followed them before they got to Wolf Creek.\"],\n",
              " ['Mick stabbed her with a bowie knife as she got into a car.'],\n",
              " ['He severed her spine when Liz crawled out and he hacked her fingers off.'],\n",
              " ['He questioned her about her location.'],\n",
              " ['Kristy is discovered by a passing driver by dawn.'],\n",
              " ['He tried to help her but was shot dead by Mick.'],\n",
              " [\"Mick chases after the dead man's car.\"],\n",
              " ['When Mick pulls up alongside and begins to get away, she shoots out her back tire, causing her to roll her car.'],\n",
              " ['She is shot dead as she tries to crawl away.'],\n",
              " [\"Mick put the dead driver's body in the back of his car and lit it on fire.\"],\n",
              " ['Ben was nailed to a mock crucifix.'],\n",
              " ['He enters the camp in the morning.'],\n",
              " ['He passes out beside a dirt road after escaping into the desert.'],\n",
              " ['He was discovered by a Swedish couple and taken to a hospital in Kalbarri.']]"
            ]
          },
          "metadata": {},
          "execution_count": 11
        }
      ]
    },
    {
      "cell_type": "code",
      "metadata": {
        "colab": {
          "base_uri": "https://localhost:8080/"
        },
        "id": "fSOQwP_hiPjk",
        "outputId": "69b914cd-4502-4276-e373-97f8f7aa71fd"
      },
      "source": [
        "paraphrase2 = [' '.join(x) for x in paraphrase]\n",
        "paraphrase2"
      ],
      "execution_count": 12,
      "outputs": [
        {
          "output_type": "execute_result",
          "data": {
            "text/plain": [
              "['Two British tourists are backpacking across Australia with an Australian friend.',\n",
              " 'Ben buys a car for their journey from Broome to the Great Northern Highway.',\n",
              " 'The trio stopped at Wolf Creek National Park.',\n",
              " \"The watches stopped and the car wouldn't start.\",\n",
              " 'Mick Taylor came across them after dark and offered to tow them to his camp to fix the car.',\n",
              " 'The abandoned mining site is south of Wolf Creek.',\n",
              " 'Mick regales them with stories of his past while fixing their car.',\n",
              " 'The water causes them to fall unconscious.',\n",
              " 'Liz was tied up in a shed.',\n",
              " 'It is implied that Mick had sexually assault her when she broke free.',\n",
              " 'Liz tries to distract him by setting his car on fire.',\n",
              " 'She shoots him with his rifle, hitting him in the neck.',\n",
              " \"The women tried to escape in Mick's truck.\",\n",
              " 'Mick stumbles out of the garage and shoots at them.',\n",
              " 'The women pushed his truck off a cliff in order to get another car.',\n",
              " \"If Liz doesn't come back in five minutes, Liz leaves the hysterical Kristy outside.\",\n",
              " \"Mick's large stock of cars and travellers' possessions were discovered by Liz when she entered another garage.\",\n",
              " 'She is horrified to see Mick helping other travellers stranded at Wolf Creek.',\n",
              " \"She picked up Ben's camera and noticed Mick's truck in the footage; he had followed them before they got to Wolf Creek.\",\n",
              " 'Mick stabbed her with a bowie knife as she got into a car.',\n",
              " 'He severed her spine when Liz crawled out and he hacked her fingers off.',\n",
              " 'He questioned her about her location.',\n",
              " 'Kristy is discovered by a passing driver by dawn.',\n",
              " 'He tried to help her but was shot dead by Mick.',\n",
              " \"Mick chases after the dead man's car.\",\n",
              " 'When Mick pulls up alongside and begins to get away, she shoots out her back tire, causing her to roll her car.',\n",
              " 'She is shot dead as she tries to crawl away.',\n",
              " \"Mick put the dead driver's body in the back of his car and lit it on fire.\",\n",
              " 'Ben was nailed to a mock crucifix.',\n",
              " 'He enters the camp in the morning.',\n",
              " 'He passes out beside a dirt road after escaping into the desert.',\n",
              " 'He was discovered by a Swedish couple and taken to a hospital in Kalbarri.']"
            ]
          },
          "metadata": {},
          "execution_count": 12
        }
      ]
    },
    {
      "cell_type": "code",
      "metadata": {
        "colab": {
          "base_uri": "https://localhost:8080/",
          "height": 140
        },
        "id": "fJ5tDLzokYCd",
        "outputId": "3f5f4e47-57b5-40bd-86f7-8e26d3e1f73c"
      },
      "source": [
        "# Combines the above list into a paragraph\n",
        "paraphrase3 = [' '.join(x for x in paraphrase2) ]\n",
        "paraphrased_text = str(paraphrase3).strip('[]').strip(\"'\")\n",
        "paraphrased_text"
      ],
      "execution_count": 13,
      "outputs": [
        {
          "output_type": "execute_result",
          "data": {
            "text/plain": [
              "'\"Two British tourists are backpacking across Australia with an Australian friend. Ben buys a car for their journey from Broome to the Great Northern Highway. The trio stopped at Wolf Creek National Park. The watches stopped and the car wouldn\\'t start. Mick Taylor came across them after dark and offered to tow them to his camp to fix the car. The abandoned mining site is south of Wolf Creek. Mick regales them with stories of his past while fixing their car. The water causes them to fall unconscious. Liz was tied up in a shed. It is implied that Mick had sexually assault her when she broke free. Liz tries to distract him by setting his car on fire. She shoots him with his rifle, hitting him in the neck. The women tried to escape in Mick\\'s truck. Mick stumbles out of the garage and shoots at them. The women pushed his truck off a cliff in order to get another car. If Liz doesn\\'t come back in five minutes, Liz leaves the hysterical Kristy outside. Mick\\'s large stock of cars and travellers\\' possessions were discovered by Liz when she entered another garage. She is horrified to see Mick helping other travellers stranded at Wolf Creek. She picked up Ben\\'s camera and noticed Mick\\'s truck in the footage; he had followed them before they got to Wolf Creek. Mick stabbed her with a bowie knife as she got into a car. He severed her spine when Liz crawled out and he hacked her fingers off. He questioned her about her location. Kristy is discovered by a passing driver by dawn. He tried to help her but was shot dead by Mick. Mick chases after the dead man\\'s car. When Mick pulls up alongside and begins to get away, she shoots out her back tire, causing her to roll her car. She is shot dead as she tries to crawl away. Mick put the dead driver\\'s body in the back of his car and lit it on fire. Ben was nailed to a mock crucifix. He enters the camp in the morning. He passes out beside a dirt road after escaping into the desert. He was discovered by a Swedish couple and taken to a hospital in Kalbarri.\"'"
            ],
            "application/vnd.google.colaboratory.intrinsic+json": {
              "type": "string"
            }
          },
          "metadata": {},
          "execution_count": 13
        }
      ]
    },
    {
      "cell_type": "code",
      "source": [
        "print(paraphrased_text)"
      ],
      "metadata": {
        "colab": {
          "base_uri": "https://localhost:8080/"
        },
        "id": "SUsQKxypInE9",
        "outputId": "c1e21b9f-732c-4918-c51d-7a69c76daa1c"
      },
      "execution_count": 15,
      "outputs": [
        {
          "output_type": "stream",
          "name": "stdout",
          "text": [
            "\"Two British tourists are backpacking across Australia with an Australian friend. Ben buys a car for their journey from Broome to the Great Northern Highway. The trio stopped at Wolf Creek National Park. The watches stopped and the car wouldn't start. Mick Taylor came across them after dark and offered to tow them to his camp to fix the car. The abandoned mining site is south of Wolf Creek. Mick regales them with stories of his past while fixing their car. The water causes them to fall unconscious. Liz was tied up in a shed. It is implied that Mick had sexually assault her when she broke free. Liz tries to distract him by setting his car on fire. She shoots him with his rifle, hitting him in the neck. The women tried to escape in Mick's truck. Mick stumbles out of the garage and shoots at them. The women pushed his truck off a cliff in order to get another car. If Liz doesn't come back in five minutes, Liz leaves the hysterical Kristy outside. Mick's large stock of cars and travellers' possessions were discovered by Liz when she entered another garage. She is horrified to see Mick helping other travellers stranded at Wolf Creek. She picked up Ben's camera and noticed Mick's truck in the footage; he had followed them before they got to Wolf Creek. Mick stabbed her with a bowie knife as she got into a car. He severed her spine when Liz crawled out and he hacked her fingers off. He questioned her about her location. Kristy is discovered by a passing driver by dawn. He tried to help her but was shot dead by Mick. Mick chases after the dead man's car. When Mick pulls up alongside and begins to get away, she shoots out her back tire, causing her to roll her car. She is shot dead as she tries to crawl away. Mick put the dead driver's body in the back of his car and lit it on fire. Ben was nailed to a mock crucifix. He enters the camp in the morning. He passes out beside a dirt road after escaping into the desert. He was discovered by a Swedish couple and taken to a hospital in Kalbarri.\"\n"
          ]
        }
      ]
    },
    {
      "cell_type": "code",
      "metadata": {
        "id": "8XNC-TJQpZWW",
        "colab": {
          "base_uri": "https://localhost:8080/"
        },
        "outputId": "dcfedc24-7422-40a1-efbf-fda75ff6ae33"
      },
      "source": [
        "# Comparison of the original (context variable) and the paraphrased version (paraphrase3 variable)\n",
        "\n",
        "print(context)\n",
        "print(paraphrased_text)"
      ],
      "execution_count": 14,
      "outputs": [
        {
          "output_type": "stream",
          "name": "stdout",
          "text": [
            "In 1999, two British tourists, Liz Hunter and Kristy Earl, are backpacking across Australia with Ben Mitchell, an Australian friend. Ben buys a dilapidated car for their journey from Broome to Cairns, Queensland via the Great Northern Highway. The trio makes a stop at Wolf Creek National Park. Hours later, they discover that their watches have stopped and the car will not start. After dark, a man named Mick Taylor comes across them and offers to tow them to his camp to repair the car. The group goes with him to an abandoned mining site several hours south of Wolf Creek. Mick regales them with tall stories of his past while making a show of fixing their car. He then gives the group water which causes them to fall unconscious. Liz awakens gagged and tied in a shed. She breaks free and hears Mick torturing Kristy in a garage; it is implied that Mick had sexually assaulted her. Liz sets the now-dismantled car on fire to distract him, and goes to help Kristy. When Mick returns, she shoots him with his rifle, the bullet hitting him in the neck. The women attempt to flee in Mick's truck. Mick stumbles out of the garage and shoots at them before giving chase. The women evade him by pushing his truck off a cliff before returning to the site to get another car. Liz leaves the hysterical Kristy outside, telling her to escape on foot if Liz does not return in five minutes. Liz enters another garage and discovers Mick's large stock of cars and travellers' possessions, including video cameras. She watches the playback on one of them and is horrified to see Mick helping other travellers stranded at Wolf Creek. She picks up Ben's camera and notices Mick's truck in the footage; he had followed them long before they got to Wolf Creek. She gets into a car but Mick appears in the backseat and stabs her with a bowie knife. Liz crawls out and he hacks her fingers off, then severs her spinal cord, paralyzing her. He interrogates her as to Kristy's whereabouts. By dawn, Kristy has reached a highway and is discovered by a passing motorist. He attempts to help her but is shot dead by Mick with a hunting rifle. Mick gives chase, prompting Kristy to take off in the dead man's car. Kristy sideswipes Mick's car into a ditch when he pulls up alongside and begins to get away, but Mick emerges and shoots out her back tire causing her in turn to drive into a ditch, rolling the car. She attempts to crawl away, but is shot dead. Mick bundles her body and the dead motorist into the back of his car and torches the car. Ben awakens nailed to a mock crucifix in a mine shaft. He extracts himself and enters the camp in early daylight. He escapes into the outback, but becomes dehydrated and passes out beside a dirt road. He is discovered by a Swedish couple who take him to Kalbarri, where he is airlifted to a hospital.\n",
            "\"Two British tourists are backpacking across Australia with an Australian friend. Ben buys a car for their journey from Broome to the Great Northern Highway. The trio stopped at Wolf Creek National Park. The watches stopped and the car wouldn't start. Mick Taylor came across them after dark and offered to tow them to his camp to fix the car. The abandoned mining site is south of Wolf Creek. Mick regales them with stories of his past while fixing their car. The water causes them to fall unconscious. Liz was tied up in a shed. It is implied that Mick had sexually assault her when she broke free. Liz tries to distract him by setting his car on fire. She shoots him with his rifle, hitting him in the neck. The women tried to escape in Mick's truck. Mick stumbles out of the garage and shoots at them. The women pushed his truck off a cliff in order to get another car. If Liz doesn't come back in five minutes, Liz leaves the hysterical Kristy outside. Mick's large stock of cars and travellers' possessions were discovered by Liz when she entered another garage. She is horrified to see Mick helping other travellers stranded at Wolf Creek. She picked up Ben's camera and noticed Mick's truck in the footage; he had followed them before they got to Wolf Creek. Mick stabbed her with a bowie knife as she got into a car. He severed her spine when Liz crawled out and he hacked her fingers off. He questioned her about her location. Kristy is discovered by a passing driver by dawn. He tried to help her but was shot dead by Mick. Mick chases after the dead man's car. When Mick pulls up alongside and begins to get away, she shoots out her back tire, causing her to roll her car. She is shot dead as she tries to crawl away. Mick put the dead driver's body in the back of his car and lit it on fire. Ben was nailed to a mock crucifix. He enters the camp in the morning. He passes out beside a dirt road after escaping into the desert. He was discovered by a Swedish couple and taken to a hospital in Kalbarri.\"\n"
          ]
        }
      ]
    }
  ]
}